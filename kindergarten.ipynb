{
 "cells": [
  {
   "cell_type": "code",
   "execution_count": 1,
   "metadata": {},
   "outputs": [],
   "source": [
    "import os\n",
    "from langchain.agents import AgentType, initialize_agent, create_pandas_dataframe_agent\n",
    "from langchain.agents.agent_toolkits import create_vectorstore_agent, VectorStoreToolkit, VectorStoreInfo, create_python_agent\n",
    "from langchain.chains import RetrievalQA\n",
    "from langchain.chat_models import ChatOpenAI\n",
    "from langchain.document_loaders import DataFrameLoader\n",
    "from langchain.embeddings import OpenAIEmbeddings\n",
    "from langchain.memory import ConversationBufferMemory\n",
    "from langchain.tools import HumanInputRun\n",
    "from langchain.tools import Tool\n",
    "from langchain.tools.python.tool import PythonREPLTool\n",
    "from langchain.utilities import SerpAPIWrapper\n",
    "from langchain.vectorstores import Chroma\n",
    "\n",
    "import pandas as pd"
   ]
  },
  {
   "cell_type": "code",
   "execution_count": 2,
   "metadata": {},
   "outputs": [],
   "source": [
    "from getpass import getpass\n",
    "import os\n",
    "\n",
    "OPENAI_API_KEY = getpass()\n",
    "os.environ[\"OPENAI_API_KEY\"] = OPENAI_API_KEY\n",
    "\n"
   ]
  },
  {
   "cell_type": "code",
   "execution_count": 3,
   "metadata": {},
   "outputs": [],
   "source": [
    "llm = ChatOpenAI(model_name=\"gpt-3.5-turbo\", temperature=0, openai_api_key=OPENAI_API_KEY)\n"
   ]
  },
  {
   "cell_type": "code",
   "execution_count": 4,
   "metadata": {},
   "outputs": [],
   "source": [
    "# simple test\n",
    "from langchain.llms import OpenAI\n",
    "from langchain import PromptTemplate, LLMChain\n",
    "\n",
    "template = \"\"\"Question: {question}\n",
    "\n",
    "Answer: Let's think step by step.\"\"\"\n",
    "\n",
    "prompt = PromptTemplate(template=template, input_variables=[\"question\"])"
   ]
  },
  {
   "cell_type": "code",
   "execution_count": 5,
   "metadata": {},
   "outputs": [],
   "source": [
    "df = pd.read_csv(\"samples/data.csv\")\n",
    "loader = DataFrameLoader(df, page_content_column=\"description\")\n",
    "data = loader.load()"
   ]
  },
  {
   "cell_type": "code",
   "execution_count": 6,
   "metadata": {},
   "outputs": [],
   "source": [
    "openai_embeddings = OpenAIEmbeddings()"
   ]
  },
  {
   "cell_type": "code",
   "execution_count": 7,
   "metadata": {},
   "outputs": [],
   "source": [
    "vector_store = Chroma.from_documents(data, embedding=openai_embeddings, persist_directory=\"../../Downloads/vectorstores\")\n",
    "vector_store.persist()"
   ]
  },
  {
   "cell_type": "code",
   "execution_count": 9,
   "metadata": {},
   "outputs": [],
   "source": [
    "def get_input() -> str:\n",
    "    display(\"Insert your text. Enter 'q' or CMD+D toed.\")\n",
    "    contents = []\n",
    "    while True:\n",
    "        try:\n",
    "            line = input()\n",
    "\n",
    "        except EOFError:\n",
    "            break\n",
    "        if line == \"q\":\n",
    "            break\n",
    "        contents.append(line)\n",
    "    return \"\\n\".join(contents)\n"
   ]
  },
  {
   "cell_type": "code",
   "execution_count": 10,
   "metadata": {},
   "outputs": [
    {
     "ename": "AttributeError",
     "evalue": "type object 'PythonREPLTool' has no attribute 'name'",
     "output_type": "error",
     "traceback": [
      "\u001b[0;31m---------------------------------------------------------------------------\u001b[0m",
      "\u001b[0;31mAttributeError\u001b[0m                            Traceback (most recent call last)",
      "\u001b[1;32m/Users/croc02/git/curly-barnacle/kindergarten.ipynb Cell 9\u001b[0m line \u001b[0;36m3\n\u001b[1;32m      <a href='vscode-notebook-cell:/Users/croc02/git/curly-barnacle/kindergarten.ipynb#X11sZmlsZQ%3D%3D?line=0'>1</a>\u001b[0m search \u001b[39m=\u001b[39m SerpAPIWrapper()\n\u001b[0;32m----> <a href='vscode-notebook-cell:/Users/croc02/git/curly-barnacle/kindergarten.ipynb#X11sZmlsZQ%3D%3D?line=2'>3</a>\u001b[0m python_repl \u001b[39m=\u001b[39m create_python_agent(llm\u001b[39m=\u001b[39;49mllm,\n\u001b[1;32m      <a href='vscode-notebook-cell:/Users/croc02/git/curly-barnacle/kindergarten.ipynb#X11sZmlsZQ%3D%3D?line=3'>4</a>\u001b[0m                                   tool\u001b[39m=\u001b[39;49mPythonREPLTool,\n\u001b[1;32m      <a href='vscode-notebook-cell:/Users/croc02/git/curly-barnacle/kindergarten.ipynb#X11sZmlsZQ%3D%3D?line=4'>5</a>\u001b[0m                                   verbose\u001b[39m=\u001b[39;49m\u001b[39mTrue\u001b[39;49;00m)\n\u001b[1;32m      <a href='vscode-notebook-cell:/Users/croc02/git/curly-barnacle/kindergarten.ipynb#X11sZmlsZQ%3D%3D?line=6'>7</a>\u001b[0m metadata_search \u001b[39m=\u001b[39m RetrievalQA\u001b[39m.\u001b[39mfrom_chain_type(llm\u001b[39m=\u001b[39mllm,\n\u001b[1;32m      <a href='vscode-notebook-cell:/Users/croc02/git/curly-barnacle/kindergarten.ipynb#X11sZmlsZQ%3D%3D?line=7'>8</a>\u001b[0m                                               chain_type\u001b[39m=\u001b[39m\u001b[39m\"\u001b[39m\u001b[39mstuff\u001b[39m\u001b[39m\"\u001b[39m,\n\u001b[1;32m      <a href='vscode-notebook-cell:/Users/croc02/git/curly-barnacle/kindergarten.ipynb#X11sZmlsZQ%3D%3D?line=8'>9</a>\u001b[0m                                               retriever\u001b[39m=\u001b[39mvector_store\u001b[39m.\u001b[39mas_retriever())\n\u001b[1;32m     <a href='vscode-notebook-cell:/Users/croc02/git/curly-barnacle/kindergarten.ipynb#X11sZmlsZQ%3D%3D?line=10'>11</a>\u001b[0m human_input \u001b[39m=\u001b[39m HumanInputRun(input_func\u001b[39m=\u001b[39mget_input)\n",
      "File \u001b[0;32m~/git/curly-barnacle/.venv/lib/python3.11/site-packages/langchain/agents/agent_toolkits/python/base.py:32\u001b[0m, in \u001b[0;36mcreate_python_agent\u001b[0;34m(llm, tool, agent_type, callback_manager, verbose, prefix, agent_executor_kwargs, **kwargs)\u001b[0m\n\u001b[1;32m     29\u001b[0m agent: BaseSingleActionAgent\n\u001b[1;32m     31\u001b[0m \u001b[39mif\u001b[39;00m agent_type \u001b[39m==\u001b[39m AgentType\u001b[39m.\u001b[39mZERO_SHOT_REACT_DESCRIPTION:\n\u001b[0;32m---> 32\u001b[0m     prompt \u001b[39m=\u001b[39m ZeroShotAgent\u001b[39m.\u001b[39;49mcreate_prompt(tools, prefix\u001b[39m=\u001b[39;49mprefix)\n\u001b[1;32m     33\u001b[0m     llm_chain \u001b[39m=\u001b[39m LLMChain(\n\u001b[1;32m     34\u001b[0m         llm\u001b[39m=\u001b[39mllm,\n\u001b[1;32m     35\u001b[0m         prompt\u001b[39m=\u001b[39mprompt,\n\u001b[1;32m     36\u001b[0m         callback_manager\u001b[39m=\u001b[39mcallback_manager,\n\u001b[1;32m     37\u001b[0m     )\n\u001b[1;32m     38\u001b[0m     tool_names \u001b[39m=\u001b[39m [tool\u001b[39m.\u001b[39mname \u001b[39mfor\u001b[39;00m tool \u001b[39min\u001b[39;00m tools]\n",
      "File \u001b[0;32m~/git/curly-barnacle/.venv/lib/python3.11/site-packages/langchain/agents/mrkl/base.py:79\u001b[0m, in \u001b[0;36mZeroShotAgent.create_prompt\u001b[0;34m(cls, tools, prefix, suffix, format_instructions, input_variables)\u001b[0m\n\u001b[1;32m     58\u001b[0m \u001b[39m@classmethod\u001b[39m\n\u001b[1;32m     59\u001b[0m \u001b[39mdef\u001b[39;00m \u001b[39mcreate_prompt\u001b[39m(\n\u001b[1;32m     60\u001b[0m     \u001b[39mcls\u001b[39m,\n\u001b[0;32m   (...)\u001b[0m\n\u001b[1;32m     65\u001b[0m     input_variables: Optional[List[\u001b[39mstr\u001b[39m]] \u001b[39m=\u001b[39m \u001b[39mNone\u001b[39;00m,\n\u001b[1;32m     66\u001b[0m ) \u001b[39m-\u001b[39m\u001b[39m>\u001b[39m PromptTemplate:\n\u001b[1;32m     67\u001b[0m \u001b[39m    \u001b[39m\u001b[39m\"\"\"Create prompt in the style of the zero shot agent.\u001b[39;00m\n\u001b[1;32m     68\u001b[0m \n\u001b[1;32m     69\u001b[0m \u001b[39m    Args:\u001b[39;00m\n\u001b[0;32m   (...)\u001b[0m\n\u001b[1;32m     77\u001b[0m \u001b[39m        A PromptTemplate with the template assembled from the pieces here.\u001b[39;00m\n\u001b[1;32m     78\u001b[0m \u001b[39m    \"\"\"\u001b[39;00m\n\u001b[0;32m---> 79\u001b[0m     tool_strings \u001b[39m=\u001b[39m \u001b[39m\"\u001b[39m\u001b[39m\\n\u001b[39;00m\u001b[39m\"\u001b[39m\u001b[39m.\u001b[39mjoin([\u001b[39mf\u001b[39;49m\u001b[39m\"\u001b[39;49m\u001b[39m{\u001b[39;49;00mtool\u001b[39m.\u001b[39;49mname\u001b[39m}\u001b[39;49;00m\u001b[39m: \u001b[39;49m\u001b[39m{\u001b[39;49;00mtool\u001b[39m.\u001b[39;49mdescription\u001b[39m}\u001b[39;49;00m\u001b[39m\"\u001b[39;49m \u001b[39mfor\u001b[39;49;00m tool \u001b[39min\u001b[39;49;00m tools])\n\u001b[1;32m     80\u001b[0m     tool_names \u001b[39m=\u001b[39m \u001b[39m\"\u001b[39m\u001b[39m, \u001b[39m\u001b[39m\"\u001b[39m\u001b[39m.\u001b[39mjoin([tool\u001b[39m.\u001b[39mname \u001b[39mfor\u001b[39;00m tool \u001b[39min\u001b[39;00m tools])\n\u001b[1;32m     81\u001b[0m     format_instructions \u001b[39m=\u001b[39m format_instructions\u001b[39m.\u001b[39mformat(tool_names\u001b[39m=\u001b[39mtool_names)\n",
      "File \u001b[0;32m~/git/curly-barnacle/.venv/lib/python3.11/site-packages/langchain/agents/mrkl/base.py:79\u001b[0m, in \u001b[0;36m<listcomp>\u001b[0;34m(.0)\u001b[0m\n\u001b[1;32m     58\u001b[0m \u001b[39m@classmethod\u001b[39m\n\u001b[1;32m     59\u001b[0m \u001b[39mdef\u001b[39;00m \u001b[39mcreate_prompt\u001b[39m(\n\u001b[1;32m     60\u001b[0m     \u001b[39mcls\u001b[39m,\n\u001b[0;32m   (...)\u001b[0m\n\u001b[1;32m     65\u001b[0m     input_variables: Optional[List[\u001b[39mstr\u001b[39m]] \u001b[39m=\u001b[39m \u001b[39mNone\u001b[39;00m,\n\u001b[1;32m     66\u001b[0m ) \u001b[39m-\u001b[39m\u001b[39m>\u001b[39m PromptTemplate:\n\u001b[1;32m     67\u001b[0m \u001b[39m    \u001b[39m\u001b[39m\"\"\"Create prompt in the style of the zero shot agent.\u001b[39;00m\n\u001b[1;32m     68\u001b[0m \n\u001b[1;32m     69\u001b[0m \u001b[39m    Args:\u001b[39;00m\n\u001b[0;32m   (...)\u001b[0m\n\u001b[1;32m     77\u001b[0m \u001b[39m        A PromptTemplate with the template assembled from the pieces here.\u001b[39;00m\n\u001b[1;32m     78\u001b[0m \u001b[39m    \"\"\"\u001b[39;00m\n\u001b[0;32m---> 79\u001b[0m     tool_strings \u001b[39m=\u001b[39m \u001b[39m\"\u001b[39m\u001b[39m\\n\u001b[39;00m\u001b[39m\"\u001b[39m\u001b[39m.\u001b[39mjoin([\u001b[39mf\u001b[39m\u001b[39m\"\u001b[39m\u001b[39m{\u001b[39;00mtool\u001b[39m.\u001b[39;49mname\u001b[39m}\u001b[39;00m\u001b[39m: \u001b[39m\u001b[39m{\u001b[39;00mtool\u001b[39m.\u001b[39mdescription\u001b[39m}\u001b[39;00m\u001b[39m\"\u001b[39m \u001b[39mfor\u001b[39;00m tool \u001b[39min\u001b[39;00m tools])\n\u001b[1;32m     80\u001b[0m     tool_names \u001b[39m=\u001b[39m \u001b[39m\"\u001b[39m\u001b[39m, \u001b[39m\u001b[39m\"\u001b[39m\u001b[39m.\u001b[39mjoin([tool\u001b[39m.\u001b[39mname \u001b[39mfor\u001b[39;00m tool \u001b[39min\u001b[39;00m tools])\n\u001b[1;32m     81\u001b[0m     format_instructions \u001b[39m=\u001b[39m format_instructions\u001b[39m.\u001b[39mformat(tool_names\u001b[39m=\u001b[39mtool_names)\n",
      "\u001b[0;31mAttributeError\u001b[0m: type object 'PythonREPLTool' has no attribute 'name'"
     ]
    }
   ],
   "source": [
    "search = SerpAPIWrapper()\n",
    "\n",
    "python_repl = create_python_agent(llm=llm,\n",
    "                                  tool=PythonREPLTool,\n",
    "                                  verbose=True)\n",
    "\n",
    "metadata_search = RetrievalQA.from_chain_type(llm=llm,\n",
    "                                              chain_type=\"stuff\",\n",
    "                                              retriever=vector_store.as_retriever())\n",
    "\n",
    "human_input = HumanInputRun(input_func=get_input)\n",
    "\n",
    "panda_agent = create_pandas_dataframe_agent(ChatOpenAI(temperature=0), df, verbose=True)\n",
    "\n",
    "vectorstore_info = VectorStoreInfo(\n",
    "    name=\"oink\", #name of the input data?\n",
    "    description=\"decribe inout date\",\n",
    "    vectorstore=vector_store\n",
    ")\n",
    "\n",
    "toolkit = VectorStoreToolkit(vectorstore_info=vectorstore_info)\n",
    "agent_executor = create_vectorstore_agent(\n",
    "    llm=llm,\n",
    "    toolkit=toolkit,\n",
    "    verbose=True\n",
    ")\n"
   ]
  }
 ],
 "metadata": {
  "kernelspec": {
   "display_name": "Python 3",
   "language": "python",
   "name": "python3"
  },
  "language_info": {
   "codemirror_mode": {
    "name": "ipython",
    "version": 3
   },
   "file_extension": ".py",
   "mimetype": "text/x-python",
   "name": "python",
   "nbconvert_exporter": "python",
   "pygments_lexer": "ipython3",
   "version": "3.11.5"
  },
  "orig_nbformat": 4
 },
 "nbformat": 4,
 "nbformat_minor": 2
}
