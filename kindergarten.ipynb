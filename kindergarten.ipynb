{
 "cells": [
  {
   "cell_type": "markdown",
   "metadata": {},
   "source": [
    "Heavily inspired by the lesson \n",
    "https://learn.deeplearning.ai/langchain-chat-with-your-data/lesson/2/document-loading\n",
    "I want to:\n",
    "1. Get the contents of a git repo with lesson material (in github-pages).\n",
    "2. Add the files with content (for now only the markdown files) and create a vector store.\n",
    "3. Be able to chat with the material, ask questions like: 'Tell me about the concept blablathisnthat ...', or 'Ask a question about ...'. "
   ]
  },
  {
   "cell_type": "code",
   "execution_count": null,
   "metadata": {},
   "outputs": [],
   "source": [
    "# These should already be handled by the requirements.txt\n",
    "#!pip install python-dotenv\n",
    "#!pip install pypdf \n",
    "#!pip install markdown\n",
    "#!pip install openai\n",
    "#!pip install GitPython\n",
    "#!pip install bs4\n",
    "#!pip list"
   ]
  },
  {
   "cell_type": "code",
   "execution_count": 1,
   "metadata": {},
   "outputs": [],
   "source": [
    "import os\n",
    "import openai\n",
    "import sys\n",
    "sys.path.append('../..')\n",
    "\n",
    "from dotenv import load_dotenv, find_dotenv\n",
    "_ = load_dotenv(find_dotenv()) # read local .env file\n",
    "\n",
    "openai.api_key  = os.environ['OPENAI_API_KEY']"
   ]
  },
  {
   "cell_type": "code",
   "execution_count": 2,
   "metadata": {},
   "outputs": [],
   "source": [
    "from langchain.document_loaders import PyPDFLoader\n",
    "#loader = PyPDFLoader(\"samples/tutorial_Class.pdf\")\n",
    "loader = PyPDFLoader(\"samples/tutorial_Class.pdf\")\n",
    "pages = loader.load()"
   ]
  },
  {
   "cell_type": "code",
   "execution_count": 3,
   "metadata": {},
   "outputs": [],
   "source": [
    "from langchain.document_loaders import WebBaseLoader\n",
    "\n",
    "loader = WebBaseLoader(\"https://github.com/basecamp/handbook/blob/master/37signals-is-you.md\")"
   ]
  },
  {
   "cell_type": "code",
   "execution_count": 4,
   "metadata": {},
   "outputs": [],
   "source": [
    "pages[0]"
   ]
  },
  {
   "cell_type": "code",
   "execution_count": 6,
   "metadata": {},
   "outputs": [
    {
     "name": "stderr",
     "output_type": "stream",
     "text": [
      "Cloning into '.git_softwaremat'...\n"
     ]
    },
    {
     "data": {
      "text/plain": [
       "0"
      ]
     },
     "execution_count": 6,
     "metadata": {},
     "output_type": "execute_result"
    }
   ],
   "source": [
    "# Git Clone \n",
    "import subprocess\n",
    "\n",
    "repo_url = \"https://github.com/stasemsoft/softwarematerial.git\"\n",
    "local_dir = \".git_softwaremat\"\n",
    "\n",
    "subprocess.check_call([\"git\", \"clone\", repo_url, local_dir])\n"
   ]
  },
  {
   "cell_type": "code",
   "execution_count": 10,
   "metadata": {},
   "outputs": [
    {
     "data": {
      "text/plain": [
       "[PosixPath('.git_softwaremat/README.md'),\n",
       " PosixPath('.git_softwaremat/objects.md'),\n",
       " PosixPath('.git_softwaremat/docs/legacy/Explanation-Array-Lists.md'),\n",
       " PosixPath('.git_softwaremat/docs/legacy/readme.md.md')]"
      ]
     },
     "execution_count": 10,
     "metadata": {},
     "output_type": "execute_result"
    }
   ],
   "source": [
    "import pathlib\n",
    "\n",
    "repo_path = pathlib.Path(local_dir)\n",
    "markdown_files = list(repo_path.glob(\"**/*.md\"))\n",
    "markdown_files[0:4]\n"
   ]
  },
  {
   "cell_type": "code",
   "execution_count": 11,
   "metadata": {},
   "outputs": [],
   "source": [
    "from langchain.document_loaders import NotionDirectoryLoader\n",
    "from langchain.text_splitter import MarkdownHeaderTextSplitter"
   ]
  },
  {
   "cell_type": "code",
   "execution_count": 16,
   "metadata": {},
   "outputs": [],
   "source": [
    "headers_to_split_on = [\n",
    "    (\"#\", \"Header 1\"),\n",
    "    (\"##\", \"Header 2\"),\n",
    "    (\"###\", \"Header 3\"),\n",
    "]\n",
    "\n",
    "markdown_splitter = MarkdownHeaderTextSplitter(\n",
    "    headers_to_split_on=headers_to_split_on\n",
    ")\n",
    "\n",
    "def SplitMarkdownText(markdown_text):\n",
    "    md_header_splits = markdown_splitter.split_text(markdown_text)\n",
    "    return md_header_splits\n"
   ]
  },
  {
   "cell_type": "code",
   "execution_count": 18,
   "metadata": {},
   "outputs": [
    {
     "name": "stdout",
     "output_type": "stream",
     "text": [
      "--------------------\n",
      "[Document(page_content='Dit is een verzameling (open) software-materiaal van het startsemester FHICT (Fontys Hogeschool voor ICT). Het is openbaar toegankelijk voor iedereen en vrij van copyright. Het is in de loop der jaren gemaakt en verzameld door docenten, met hier en daar toevoegingen door studenten! FHICT verwijst naar dit materiaal vanuit een canvas-course, daar staat de FHICT-specifieke info, terwijl deze github-pages redelijk FHICT-onafhankelijk zijn.  \\n---', metadata={'Header 1': 'Softwarematerial - Overzicht', 'Header 2': 'Inleiding'}), Document(page_content=\"In het theorie-materiaal onderscheiden we:\\n+ `Tutorial`: practical steps, learning oriented.\\n+ `How-to guide`: practical steps, problem oriented.\\n+ `Discussion`: theoretical, understanding oriented.\\n+ `Reference`: theoretical, information oriented. Accurate and complete.  \\nDe opdrachten zijn te verdelen in:\\n+ `Training` (voorheen exercises): 'vingeroefeningen', horen bij een stukje theorie om te oefenen, maar zijn als bewijsmateriaal om je docent te overtuigen niet te gebruiken.\\n+ `Wedstrijd`: Om je docent te overtuigen dat je het niet alleen snapt maar ook doet ga je zelf opdrachten verzinnen, variëren en uitbreiden op bestaande opdrachten!  \\nZie [meer uitleg](https://stasemsoft.github.io/softwarematerial/docs/meta) over de uitgangspunten.  \\n---\", metadata={'Header 1': 'Softwarematerial - Overzicht', 'Header 2': 'Structuur van dit materiaal'}), Document(page_content='+ [How-to](https://stasemsoft.github.io/softwarematerial/docs/basic/howto): Technisch-inhoudelijke vragen vind je in de How-to. Staat je antwoord er niet bij? Laat het horen! (ook als je het antwoord zelf al hebt gevonden. Vast dank!)\\n+ [how to Look At A Tutorial](docs/process/howtoLookAtATutorial.md)  \\n+ [Frequently Asked Questions](https://stasemsoft.github.io/softwarematerial/docs/FAQ): Als je vragen hebt over de cursus bij FHICT: kijk eerst eens in de FAQ\\nof anderen dezelfde vraag ook al hadden.\\n+ [some more really powerful help can be found\\nhere](https://chat.openai.com/chat)  \\n---', metadata={'Header 1': 'Softwarematerial - Overzicht', 'Header 2': 'Eerste Hulp Bij Vasthangen'}), Document(page_content='Vergelijk jezelf met de personas en lees de tips: Heb je al programmeerervaring? Of juist nog helemaal niet?  \\n[intro](docs/personas/intro)  \\n---', metadata={'Header 1': 'Softwarematerial - Overzicht', 'Header 2': 'Personas / Volgorde'}), Document(page_content='De manier van denken, goed om iets van te weten... Oorspronkelijk gebruikt als materiaal om kennis met elkaar en met de docent te maken. Werkt het best al discussiërend met stift bij het whiteboard.  \\n+ [Computational Thinking](https://stasemsoft.github.io/softwarematerial/docs/computational)  \\n---', metadata={'Header 1': 'Softwarematerial - Overzicht', 'Header 2': 'Onderdelen', 'Header 3': '1. Computational Thinking'}), Document(page_content='Een introductie in programmeren (nog zonder objecten).  \\n+ [Toolbox basis](https://stasemsoft.github.io/softwarematerial/docs/basic/)  \\n---', metadata={'Header 1': 'Softwarematerial - Overzicht', 'Header 2': 'Onderdelen', 'Header 3': '2. Toolbox Basis: Basisconcepten van programmeren (zonder objecten)'}), Document(page_content='Verdieping, programmeren met objecten  \\n+ [Toolbox Verdiepend: Objects en Classes](https://stasemsoft.github.io/softwarematerial/docs/objects/)  \\n---', metadata={'Header 1': 'Softwarematerial - Overzicht', 'Header 2': 'Onderdelen', 'Header 3': '3. Toolbox Verdiepend: Objects en Classes'}), Document(page_content='Dit betreft een aantal niet-programmeer aspecten die een beginnend software engineer moet kennen en kunnen.  \\n+ [Software Engineering](https://stasemsoft.github.io/softwarematerial/docs/software%20engineering/)  \\n---', metadata={'Header 1': 'Softwarematerial - Overzicht', 'Header 2': 'Diversen', 'Header 3': 'Software Engineering'}), Document(page_content='+ [Het Software Profiel](https://stasemsoft.github.io/softwarematerial/docs/softwareprofiel/)  \\n---', metadata={'Header 1': 'Softwarematerial - Overzicht', 'Header 2': 'Diversen', 'Header 3': 'Het Software Profiel bij FHICT'}), Document(page_content='+ [Motivatie, Concentratie, thuiswerken](docs/process/motivatieconcentratie): Niet onbelangrijk tijdens een gemiddelde  corona-crisis...  \\n+ [Workshops](https://stasemsoft.github.io/softwarematerial/docs/workshops/)', metadata={'Header 1': 'Softwarematerial - Overzicht', 'Header 2': 'Diversen', 'Header 3': 'verder...'}), Document(page_content='+ [op Github pages](https://stasemsoft.github.io/softwarematerial/) (hier het meest leesbaar)\\nof in een\\n+ [Github-repository](https://github.com/stasemsoft/softwarematerial) (pull requests met verbeteringen welkom)', metadata={'Header 1': 'Softwarematerial - Overzicht', 'Header 2': 'Diversen', 'Header 3': 'Waar vind ik dit materiaal'})]\n",
      "--+-----+------+----\n",
      "--------------------\n",
      "[]\n",
      "--+-----+------+----\n",
      "--------------------\n",
      "[Document(page_content='C# kent, net als de meeste andere programmeertalen, naast klassen nog meer complexe datatypes. Twee voorbeelden daarvan zijn **array’s** en **lists**. Beide types zijn bedoeld om meerdere waardes van een type te kunnen bewaren. Bijvoorbeeld een verzameling getallen, een lijst van strings of een aantal boten. Soms weet je van te voren niet hoeveel waardes je precies moet onthouden en soms zijn het er gewoon te veel om allemaal op te slaan als losse variabelen. Dit zijn allemaal goede redenen om collecties te gebruiken.  \\nWe kijken eerst naar array’s. Dit is het basistype om meerdere waardes van een en hetzelfde type te kunnen bewaren. Dit datatype werkt ook in de niet object-georiënteerde programmeertalen, zoals bijvoorbeeld C.', metadata={'Header 1': 'Explanation - Array & Lists'}), Document(page_content='Bekijk het volgende voorbeeldje:\\n```csharp\\ndouble[] getallen = new double[10];\\ngetallen[0] = 2.5;\\nMessageBox.Show(\"Getal nummer 1 = \" + getallen[0]);\\n```\\nHier wordt een array van doubles aangemaakt. Om precies te zien een array van precies 10 doubles. Op de tweede regel code wordt het eerste getal in de rij gelijk gemaakt aan 2,5. Met de \\\\[blokhaken\\\\] kun je elementen een nieuwe waarde geven. Ook kun je getallen opvragen met de \\\\[blokhaken\\\\]. Dit zie je op de regel daaronder, in de messagebox. Simpel toch? Wat voor getallenreeks wordt er in onderstaand stukje code dan opgeslagen in de array?\\n```csharp\\nint[] getallen = new int[10];\\nfor (int i = 0; i < getallen.Length; i++)\\n{\\ngetallen[i] = (i + 1) * 5;\\n}\\n```\\nZoals je ziet heeft een array altijd een vaste grootte. In beide voorbeelden hierboven wordt plek gereserveerd voor 10 getallen (doubles of integers). Met de Length eigenschap van een array (ook te zien in bovenstaande stukje code) kun je opvragen hoeveel elementen je maximaal in de array kunt opslaan. Uiteraard kun je ook andere zaken dan integers en doubles opslaan met een array. Zo kun je bijvoorbeeld ook een array van strings of je eigen objecten aanmaken. Probeer eens uit! Een array kan wel altijd maar 1 soort (type) variabele opslaan.  \\nNet als bij klassen moet je een array aanmaken met new. Wanneer je dat niet doet krijg je daar van Visual Studio een melding over.  \\n**Let op**: We beginnen te tellen bij **0**. Het eerste element in een array staat op positie 0. Het getal op _index_ 5 is het zesde getal in de reeks.  \\n**Breinbrekers**: Wist je dat een string eigenlijk een char\\\\[\\\\] array is? En wist je dat je ook een array van array’s (van array’s (van array’s…)) kunt maken (2D- en 3D-array’s)? Leuke uitdagingen om mee te spelen!', metadata={'Header 1': 'Explanation - Array & Lists', 'Header 2': \"Array's\"}), Document(page_content='Het nadeel van een array is dat je van te voren moet specificeren hoeveel plekken je wilt reserveren voor je data. Echter, niet altijd is dit van te voren bekend. Wanneer je een gebruiker zelf elementen laat toevoegen in het systeem weet je niet hoeveel er toegevoegd zullen worden. Daarom is de List bedacht: de meegroeiende array. Wanneer je meer plek nodig hebt zal de List automagisch groeien in maximale grootte.\\n```csharp\\nint[] getallen = new int[10];\\nfor (int i = 0; i < 10; i++)\\n{\\ngetallen[i] = i * 10;\\n}  \\ngetallen[10] = 10 * 10;\\n```\\nIn bovenstaand stukje code worden een array van maximaal 10 integers aangemaakt. Vervolgens worden de tafel van 10 getal voor getal aan de array toegevoegd. Na de for-loop wordt het laatste element aan de array toegevoegd, 10 x 10. Echter, deze zal niet meer passen. Er kunnen maximaal 10 integers in de array en 0 x 10 tot en met 9 x 10 zijn al toegevoegd. Dat zijn er dus al 10 in totaal. Het getal 100 zal niet meer passen en geeft dan een _IndexOutOfRangeException_ foutmelding. In onderstaand voorbeeld wordt een alternatief met een List gegeven.\\n```csharp\\nList<int> getallen = new List<int>();\\nfor (int i = 0; i < 10; i++)\\n{\\ngetallen.Add(i * 10);\\n}  \\ngetallen.Add(10 * 10);\\n```\\nDit stuk code zal niet meer de aangeven dat er geen plek meer is voor het getal 100. De List groeit mee met de vraag. Als er meer plek nodig is zal de List dus plek vrijmaken. Een array kan dit niet uit zichzelf!  \\nHieronder zie je een voorbeeld met een List van strings. In plaats van de for-loop wordt de foreach gebruik. Dit is een nieuw soort herhalingsstructuur waarin er om de loop al een element uit de collectie wordt gehaald om er mee verder te werken. Dit scheelt dus weer code! Dit werkt overigens ook met array’s.\\n```csharp\\nstring s = \"\";\\nList<string> woorden = new List<string>();\\nwoorden.Add(\"Hallo\");\\nwoorden.Add(\"allemaal!\");\\nforeach (var woord in woorden)\\n{\\ns = s + woord + \" \";\\n}\\nMessageBox.Show(s);\\n```\\nWaarschijnlijk zie je het al, maar de tekst “Hallo allemaal!” zal verschijnen in een MessageBox. Bij elke iteratie (elke keer dat C# door de collectie loopt) pakt hij het volgende element uit de verzameling. Deze stopt hij in de variabele woord. Deze variable bevat altijd het element wat op dat moment actueel is in de herhaling. Hij pakt dus eest element met index 0, daarna die met index 1, index 2, en zo voorts. Je hoeft dus niet zelf meer de index bij te houden en ook het element wordt automatisch voor je uit de collectie gepakt.', metadata={'Header 1': 'Explanation - Array & Lists', 'Header 2': 'Lists'}), Document(page_content='Het leuke van alles opslaan in een List is dat je er gemakkelijk elementen in terug kunt vinden. Daar gebruiken we twee methodes voor, de Contains en IndexOf. Met de Contains methode kun je controleren of een element voorkomt in de List. Deze geeft dus true of false terug. De IndexOf methode geeft de index terug van het element dat je zoekt. Als het element niet is gevonden zal -1 terug worden gegeven.\\n```csharp\\nList<string> talen = new List<string>();\\ntalen.Add(\"Java\");\\n...\\nif (talen.Contains(\"C#\"))\\n{\\nMessageBox.Show(\"C# komt voor in de lijst!\");\\n}\\n```\\nIn bovenstaand voorbeeld wordt het gebruik van de Contains methode laten zien. Aan de talen List worden verschillende strings toegevoegd. Allereerst wordt de string “Java” aan de List toegevoegd. Op de drie puntjes kunnen nog andere talen zijn toegevoegd.  \\nAls je weet dat een bepaald element in de List voorkomt kun je met de IndexOf methode kijken op welke index het element staat. Bekijk onderstaand voorbeeld.\\n```csharp\\nList<string> talen = new List<string>();\\ntalen.Add(\"Java\");\\n...  \\nint index = talen.IndexOf(\"C#\");\\nMessageBox.Show(\"C# staat op index \" + index);\\n```\\nWanneer C# niet in de lijst zou staat zou de IndexOf methode aangeven dat de index gelijk is aan -1. Dat is een code die wordt gebruikt wanneer het element waarvan de index van wordt opgevraagd niet wordt gevonden in de List. Dat kun je natuurlijk ook voorkomen door eerst met Contains te kijken of het element voorkomt in de List. Probeer het eens zelf uit en kijk of je de twee kunt combineren!  \\n**Tip**: De Contains en IndexOf methodes werken ook voor strings!', metadata={'Header 1': 'Explanation - Array & Lists', 'Header 2': 'Lists', 'Header 3': 'List methoden'}), Document(page_content='```csharp\\npublic List<int> GeefTafelVan(int tafelVan)\\n{\\nList<int> getallen = new List<int>();\\nfor (int i = 0; i <= 10; i++)\\n{\\ngetallen.Add(i * tafelVan);\\n}\\nreturn getallen;\\n}\\n```\\nIn de code hierboven zie je een methode die de tafel van een getal teruggeeft, in de vorm van een List van integers. Je zou deze als volgt kunnen gebruiken:\\n```csharp\\nList<int> tafelVanVijf = GeefTafelVan(5);\\nforeach (var getal in tafelVanVijf)\\n{\\nConsole.Out.WriteLine(getal);\\n}\\n```', metadata={'Header 1': 'Explanation - Array & Lists', 'Header 2': 'Voorbeelden', 'Header 3': 'List en foreach'}), Document(page_content=\"```csharp\\nchar[] woord = { 'H','a','l','l','o','!' };\\nfor (int i = 0; i < woord.Length; i++)\\n{\\nConsole.Out.Write(woord[i]);\\n}  \\nConsole.Out.Write(Environment.NewLine);\\n```\\nHierboven zie je een stukje code om een array van characters op te slaan. Met een for-loop kun je de gegevens ophalen en afdrukken naar de console. Probeer het zelf eens uit!\", metadata={'Header 1': 'Explanation - Array & Lists', 'Header 2': 'Voorbeelden', 'Header 3': 'Array en for-loop'}), Document(page_content='```csharp\\nList<double> inworp = new List<double>();\\ninworp.Add(.5);\\ninworp.Add(2.0);\\ninworp.Add(.5);  \\nif (inworp.Contains(.5))\\n{\\nMessageBox.Show(\"Er is minstens 1 \" + \"muntstuk van vijftig cent ingeworpen!\");\\n}\\n```\\nHierboven zie je een stukje code met een lijst van prijzen, opgeslagen als lijst van doubles. Wanneer een gebruiker een muntstuk van 50 cent heeft ingeworpen zal er een MessageBox worden weergegeven.', metadata={'Header 1': 'Explanation - Array & Lists', 'Header 2': 'Voorbeelden', 'Header 3': 'List en Contains'}), Document(page_content='```csharp\\nList<double> inworp = new List<double>();\\nif (inworp.IndexOf(.5) == -1)\\n{\\nMessageBox.Show(\"Er is geen muntstuk \" + \"van vijftig cent ingeworpen!\");\\n}\\n```\\nBijna hetzelfde voorbeeld als hierboven. Hier wordt de IndexOf methode gebruikt om de index van het eerste vijftig cent munstuk in de lijst op te vragen. Als deze -1 teruggeeft is er geen muntstuk van vijftig cent gevonden.', metadata={'Header 1': 'Explanation - Array & Lists', 'Header 2': 'Voorbeelden', 'Header 3': 'List en IndexOf'})]\n",
      "--+-----+------+----\n"
     ]
    }
   ],
   "source": [
    "for markdown_file in markdown_files[0:3]:\n",
    "    with open(markdown_file, \"r\") as f:\n",
    "        print(\"--------------------\")\n",
    "        content = f.read()\n",
    "        w = SplitMarkdownText(content)\n",
    "        print(w)\n",
    "        print(\"--+-----+------+----\")\n"
   ]
  }
 ],
 "metadata": {
  "kernelspec": {
   "display_name": "Python 3",
   "language": "python",
   "name": "python3"
  },
  "language_info": {
   "codemirror_mode": {
    "name": "ipython",
    "version": 3
   },
   "file_extension": ".py",
   "mimetype": "text/x-python",
   "name": "python",
   "nbconvert_exporter": "python",
   "pygments_lexer": "ipython3",
   "version": "3.10.8"
  },
  "orig_nbformat": 4
 },
 "nbformat": 4,
 "nbformat_minor": 2
}
