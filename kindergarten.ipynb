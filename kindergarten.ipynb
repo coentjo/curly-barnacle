{
 "cells": [
  {
   "cell_type": "markdown",
   "metadata": {},
   "source": [
    "Heavily inspired by the lesson \n",
    "https://learn.deeplearning.ai/langchain-chat-with-your-data/lesson/2/document-loading\n",
    "I want to:\n",
    "1. Get the contents of a git repo with lesson material (in github-pages).\n",
    "2. Add the files with content (for now only the markdown files) and create a vector store.\n",
    "3. Be able to chat with the material, ask questions like: 'Tell me about the concept blablathisnthat ...', or 'Ask a question about ...'. "
   ]
  },
  {
   "cell_type": "code",
   "execution_count": null,
   "metadata": {},
   "outputs": [],
   "source": [
    "# These should already be handled by the requirements.txt\n",
    "#!pip install python-dotenv\n",
    "#!pip install pypdf \n",
    "#!pip install markdown\n",
    "#!pip install openai\n",
    "#!pip install GitPython\n",
    "#!pip install bs4\n",
    "#!pip list"
   ]
  },
  {
   "cell_type": "code",
   "execution_count": 1,
   "metadata": {},
   "outputs": [],
   "source": [
    "import os\n",
    "import openai\n",
    "import sys\n",
    "sys.path.append('../..')\n",
    "\n",
    "from dotenv import load_dotenv, find_dotenv\n",
    "_ = load_dotenv(find_dotenv()) # read local .env file\n",
    "\n",
    "openai.api_key  = os.environ['OPENAI_API_KEY']"
   ]
  },
  {
   "cell_type": "code",
   "execution_count": 2,
   "metadata": {},
   "outputs": [],
   "source": [
    "from langchain.document_loaders import PyPDFLoader\n",
    "#loader = PyPDFLoader(\"samples/tutorial_Class.pdf\")\n",
    "loader = PyPDFLoader(\"samples/tutorial_Class.pdf\")\n",
    "pages = loader.load()"
   ]
  },
  {
   "cell_type": "code",
   "execution_count": 3,
   "metadata": {},
   "outputs": [],
   "source": [
    "from langchain.document_loaders import WebBaseLoader\n",
    "\n",
    "loader = WebBaseLoader(\"https://github.com/basecamp/handbook/blob/master/37signals-is-you.md\")"
   ]
  },
  {
   "cell_type": "code",
   "execution_count": 4,
   "metadata": {},
   "outputs": [
    {
     "data": {
      "text/plain": [
       "Document(page_content='Stéphane Ducasse, Lukas Renggli, David C. Shaffer, Rick Zacconewith Michael DaviesDynamic WebDevelopmentwith', metadata={'source': 'samples/tutorial_Class.pdf', 'page': 0})"
      ]
     },
     "execution_count": 4,
     "metadata": {},
     "output_type": "execute_result"
    }
   ],
   "source": [
    "pages[0]"
   ]
  },
  {
   "cell_type": "code",
   "execution_count": 5,
   "metadata": {},
   "outputs": [
    {
     "name": "stderr",
     "output_type": "stream",
     "text": [
      "Cloning into '.git_softwaremat'...\n"
     ]
    },
    {
     "data": {
      "text/plain": [
       "0"
      ]
     },
     "execution_count": 5,
     "metadata": {},
     "output_type": "execute_result"
    }
   ],
   "source": [
    "# Git Clone \n",
    "import subprocess\n",
    "\n",
    "repo_url = \"https://github.com/stasemsoft/softwarematerial.git\"\n",
    "local_dir = \".git_softwaremat\"\n",
    "\n",
    "subprocess.check_call([\"git\", \"clone\", repo_url, local_dir])\n"
   ]
  },
  {
   "cell_type": "code",
   "execution_count": 6,
   "metadata": {},
   "outputs": [
    {
     "data": {
      "text/plain": [
       "[PosixPath('.git_softwaremat/README.md'),\n",
       " PosixPath('.git_softwaremat/objects.md'),\n",
       " PosixPath('.git_softwaremat/docs/legacy/Explanation-Array-Lists.md'),\n",
       " PosixPath('.git_softwaremat/docs/legacy/readme.md.md')]"
      ]
     },
     "execution_count": 6,
     "metadata": {},
     "output_type": "execute_result"
    }
   ],
   "source": [
    "import pathlib\n",
    "\n",
    "repo_path = pathlib.Path(local_dir)\n",
    "markdown_files = list(repo_path.glob(\"**/*.md\"))\n",
    "markdown_files[0:4]\n"
   ]
  },
  {
   "cell_type": "code",
   "execution_count": 7,
   "metadata": {},
   "outputs": [],
   "source": [
    "from langchain.document_loaders import NotionDirectoryLoader\n",
    "from langchain.text_splitter import MarkdownHeaderTextSplitter"
   ]
  },
  {
   "cell_type": "code",
   "execution_count": 10,
   "metadata": {},
   "outputs": [
    {
     "ename": "SyntaxError",
     "evalue": "invalid syntax (2531106602.py, line 22)",
     "output_type": "error",
     "traceback": [
      "\u001b[0;36m  Cell \u001b[0;32mIn[10], line 22\u001b[0;36m\u001b[0m\n\u001b[0;31m    global embeddings += embedding.embed_query(md_header_splits)\u001b[0m\n\u001b[0m                      ^\u001b[0m\n\u001b[0;31mSyntaxError\u001b[0m\u001b[0;31m:\u001b[0m invalid syntax\n"
     ]
    }
   ],
   "source": [
    "from langchain.embeddings.openai import OpenAIEmbeddings\n",
    "import numpy as np\n",
    "\n",
    "headers_to_split_on = [\n",
    "    (\"#\", \"Header 1\"),\n",
    "    (\"##\", \"Header 2\"),\n",
    "    (\"###\", \"Header 3\"),\n",
    "]\n",
    "\n",
    "# 1 embedding to put all text in. \n",
    "embedding = OpenAIEmbeddings()\n",
    "embeddings = []\n",
    "\n",
    "markdown_splitter = MarkdownHeaderTextSplitter(\n",
    "    headers_to_split_on=headers_to_split_on\n",
    ")\n",
    "\n",
    "\n",
    "\n",
    "def SplitMarkdownText(markdown_text):\n",
    "    md_header_splits = markdown_splitter.split_text(markdown_text)\n",
    "    global embeddings.append(embedding.embed_query(md_header_splits))\n",
    "    print(np.dot(embeddings[0:], embeddings[:0]))\n",
    "    return md_header_splits\n"
   ]
  },
  {
   "cell_type": "code",
   "execution_count": 9,
   "metadata": {},
   "outputs": [
    {
     "name": "stdout",
     "output_type": "stream",
     "text": [
      "--------------------\n"
     ]
    },
    {
     "ename": "UnboundLocalError",
     "evalue": "local variable 'embeddings' referenced before assignment",
     "output_type": "error",
     "traceback": [
      "\u001b[0;31m---------------------------------------------------------------------------\u001b[0m",
      "\u001b[0;31mUnboundLocalError\u001b[0m                         Traceback (most recent call last)",
      "Cell \u001b[0;32mIn[9], line 5\u001b[0m\n\u001b[1;32m      3\u001b[0m \u001b[39mprint\u001b[39m(\u001b[39m\"\u001b[39m\u001b[39m--------------------\u001b[39m\u001b[39m\"\u001b[39m)\n\u001b[1;32m      4\u001b[0m content \u001b[39m=\u001b[39m f\u001b[39m.\u001b[39mread()\n\u001b[0;32m----> 5\u001b[0m chunk \u001b[39m=\u001b[39m SplitMarkdownText(content)\n\u001b[1;32m      6\u001b[0m \u001b[39mprint\u001b[39m(chunk)\n",
      "Cell \u001b[0;32mIn[8], line 22\u001b[0m, in \u001b[0;36mSplitMarkdownText\u001b[0;34m(markdown_text)\u001b[0m\n\u001b[1;32m     20\u001b[0m \u001b[39mdef\u001b[39;00m \u001b[39mSplitMarkdownText\u001b[39m(markdown_text):\n\u001b[1;32m     21\u001b[0m     md_header_splits \u001b[39m=\u001b[39m markdown_splitter\u001b[39m.\u001b[39msplit_text(markdown_text)\n\u001b[0;32m---> 22\u001b[0m     embeddings \u001b[39m+\u001b[39m\u001b[39m=\u001b[39m embedding\u001b[39m.\u001b[39membed_query(md_header_splits)\n\u001b[1;32m     23\u001b[0m     \u001b[39mprint\u001b[39m(np\u001b[39m.\u001b[39mdot(embeddings[\u001b[39m0\u001b[39m:], embeddings[:\u001b[39m0\u001b[39m]))\n\u001b[1;32m     24\u001b[0m     \u001b[39mreturn\u001b[39;00m md_header_splits\n",
      "\u001b[0;31mUnboundLocalError\u001b[0m: local variable 'embeddings' referenced before assignment"
     ]
    }
   ],
   "source": [
    "for markdown_file in markdown_files[0:3]:\n",
    "    with open(markdown_file, \"r\") as f:\n",
    "        print(\"--------------------\")\n",
    "        content = f.read()\n",
    "        chunk = SplitMarkdownText(content)\n",
    "        print(chunk)\n"
   ]
  },
  {
   "cell_type": "code",
   "execution_count": null,
   "metadata": {},
   "outputs": [],
   "source": []
  }
 ],
 "metadata": {
  "kernelspec": {
   "display_name": "Python 3",
   "language": "python",
   "name": "python3"
  },
  "language_info": {
   "codemirror_mode": {
    "name": "ipython",
    "version": 3
   },
   "file_extension": ".py",
   "mimetype": "text/x-python",
   "name": "python",
   "nbconvert_exporter": "python",
   "pygments_lexer": "ipython3",
   "version": "3.10.8"
  },
  "orig_nbformat": 4
 },
 "nbformat": 4,
 "nbformat_minor": 2
}
