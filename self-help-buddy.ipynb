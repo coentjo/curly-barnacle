{
  "cells": [
    {
      "cell_type": "markdown",
      "metadata": {
        "id": "_QAhBW4_JFsv"
      },
      "source": [
        "# Chat with Self Help Concepts with RAG\n",
        "\n",
        "This notebook will guide you through the process of setting up the environment, importing documents, and interacting with LangChain for document-based Q&A. We'll cover topics such as document preprocessing, question formulation, and analyzing the model's responses.\n",
        "\n",
        "Whether you're a researcher, student, or professional, this demo notebook will showcase how LangChain can revolutionize your document exploration and information retrieval workflows."
      ]
    },
    {
      "cell_type": "markdown",
      "metadata": {
        "id": "vZ3ah-Fi99HT"
      },
      "source": [
        "# Prerequisites\n",
        "\n",
        "This code installs several Python packages that are required for the project. Explanations happily generated for you by [Chepetto](https://openai.com/blog/chatgpt).\n",
        "\n",
        "- [`langchain`](<https://python.langchain.com/>) is a package for language modeling and language generation tasks.\n",
        "- [`openai`](<https://openai.com/>) is a package for accessing the OpenAI API, which provides access to various language models and AI tools.\n",
        "- [`pypdf`](<https://pypi.org/project/PyPDF2/>) is a package for working with PDF files in Python.\n",
        "- [`tiktoken`](<https://github.com/openai/tiktoken>) is a package for accessing the TikTok API.\n",
        "- [`faiss-cpu`](<https://github.com/facebookresearch/faiss>) is a package for performing efficient similarity searches on large datasets using the FAISS library.\n"
      ]
    },
    {
      "cell_type": "code",
      "execution_count": 62,
      "metadata": {
        "id": "dgzZqejc_tHY"
      },
      "outputs": [
        {
          "name": "stdout",
          "output_type": "stream",
          "text": [
            "Note: you may need to restart the kernel to use updated packages.\n"
          ]
        }
      ],
      "source": [
        "%pip install -qU langchain openai pypdf tiktoken faiss-cpu"
      ]
    },
    {
      "cell_type": "markdown",
      "metadata": {
        "id": "_g3qnWtL9uoZ"
      },
      "source": [
        "# OpenAI API Key\n",
        "\n",
        "To use the OpenAI API, you need to obtain an API key from the [OpenAI website](https://platform.openai.com/account/api-keys). The API key is a unique identifier that allows you to access the OpenAI API and make requests to it. By setting the 'OPENAI_API_KEY' environment variable, you can securely provide your API key to the code without hardcoding it into the script."
      ]
    },
    {
      "cell_type": "code",
      "execution_count": 2,
      "metadata": {
        "id": "DAlyjKew6n0N"
      },
      "outputs": [],
      "source": [
        "import os\n",
        "import getpass\n",
        "os.environ['OPENAI_API_KEY'] = getpass.getpass(\"OPENAI_API_KEY\")"
      ]
    },
    {
      "cell_type": "markdown",
      "metadata": {
        "id": "AyqRRBW89pef"
      },
      "source": [
        "# Embeddings setup\n",
        "\n",
        "This code initializes an instance of the [OpenAIEmbeddings](https://python.langchain.com/en/latest/reference/modules/embeddings.html?highlight=embeddings#langchain.embeddings.OpenAIEmbeddings) class and assigns it to the variable embeddings. An [embedding](https://platform.openai.com/docs/guides/embeddings) is a way to represent words or phrases as numeric vectors, which can be used as input to machine learning models.  The `OpenAIEmbeddings` class provides access to pre-trained word embeddings from OpenAI, which were trained on a large corpus of text data using advanced deep learning techniques.\n",
        "\n",
        "Once you have initialized an instance of the `OpenAIEmbeddings` class, you can use it to obtain the embedding vector for any given chunk of text. This can be useful for a variety of [natural language processing](https://en.wikipedia.org/wiki/Natural_language_processing) (NLP) tasks, such as sentiment analysis, language translation, and text classification. In this notebook we use it to do [semantic search](https://en.wikipedia.org/wiki/Semantic_search) with a [vector database](https://www.youtube.com/watch?v=klTvEwg3oJ4&ab_channel=Fireship) in this case.\n",
        "\n",
        "## Model\n",
        "\n",
        "| Name | Tokenizer | Max input tokens | Output dimensions |\n",
        "| :--- | :--- | ---: | ---: |\n",
        "| text-embedding-ada-002 | cl100k_base | 8191 | 1536 |\n",
        "\n",
        "\n"
      ]
    },
    {
      "cell_type": "code",
      "execution_count": 3,
      "metadata": {
        "id": "ywZY3ISvBtG0"
      },
      "outputs": [],
      "source": [
        "from langchain.embeddings.openai import OpenAIEmbeddings\n",
        "\n",
        "embeddings = OpenAIEmbeddings()"
      ]
    },
    {
      "cell_type": "markdown",
      "metadata": {
        "id": "TQndn4wG9gmV"
      },
      "source": [
        "# Splitter setup\n",
        "\n",
        "The [RecursiveCharacterTextSplitter](https://python.langchain.com/en/latest/modules/indexes/text_splitters/examples/recursive_text_splitter.html) is a text splitting tool that takes in a large text document as input and splits it into smaller chunks for downstream processing. Here's what each parameter in the splitter setup means:\n",
        "\n",
        "- `chunk_size`: This parameter specifies the size of each chunk of text that the splitter will output. In this case, the splitter is set up to output chunks of 500 characters each.\n",
        "\n",
        "- `chunk_overlap`: This parameter specifies the number of characters of overlap that each chunk will have with the next chunk. In this case, the splitter is set up to have an overlap of 20 characters between adjacent chunks.\n",
        "\n",
        "- `length_function`: This parameter specifies the function that the splitter will use to calculate the length of the input text. In this case, the `len` function is used, which returns the number of characters in the text.\n",
        "\n",
        "Together, these parameters determine how the input text will be split into smaller chunks. The splitter will output chunks of 500 characters each, with an overlap of 20 characters between adjacent chunks, until the entire input text has been processed. This setup is designed to balance the need for small enough chunks for efficient processing, with enough overlap between chunks to minimize the risk of losing contextual information at the boundaries between chunks."
      ]
    },
    {
      "cell_type": "code",
      "execution_count": 6,
      "metadata": {
        "id": "oXNfZfbW-AwH"
      },
      "outputs": [],
      "source": [
        "from langchain.text_splitter import RecursiveCharacterTextSplitter\n",
        "\n",
        "text_splitter = RecursiveCharacterTextSplitter(\n",
        "    chunk_size = 1000,\n",
        "    chunk_overlap  = 50\n",
        ")"
      ]
    },
    {
      "cell_type": "markdown",
      "metadata": {
        "id": "aIrQCZBg9bjo"
      },
      "source": [
        "# Load (and split) documents\n",
        "\n",
        "This code snippet loads PDF files from a directory named \"pdf/\" using a [PyPDFDirectoryLoader](https://python.langchain.com/en/latest/modules/indexes/document_loaders/examples/pdf.html?highlight=PyPDFDirectoryLoader) class from the `langchain.document_loaders` module. The `loader` variable is an instance of `PyPDFDirectoryLoader`, which takes the directory path as an argument.\n",
        "\n",
        "After instantiating the loader, the code calls the `load_and_split` method to load the PDF files from the directory and split their text using the text splitter we created before.\n",
        "\n",
        "## Upload your PDFs\n",
        "Create a folder called 'pdf' and throw in any number of pdf's you'd like to chat with.\n",
        "\n",
        "> Note; The pdf's will be deleted once you close the notebook."
      ]
    },
    {
      "cell_type": "code",
      "execution_count": 7,
      "metadata": {
        "id": "PLbGxELv8X4C"
      },
      "outputs": [
        {
          "data": {
            "text/plain": [
              "4427"
            ]
          },
          "execution_count": 7,
          "metadata": {},
          "output_type": "execute_result"
        }
      ],
      "source": [
        "from langchain.document_loaders import PyPDFDirectoryLoader\n",
        "\n",
        "loader = PyPDFDirectoryLoader(\"pdf/\")\n",
        "docs = loader.load_and_split(text_splitter=text_splitter)\n",
        "len(docs)\n"
      ]
    },
    {
      "cell_type": "code",
      "execution_count": null,
      "metadata": {
        "id": "imTLGCkO14Qd"
      },
      "outputs": [],
      "source": [
        "docs[243].page_content # arbitrary chunk"
      ]
    },
    {
      "cell_type": "markdown",
      "metadata": {
        "id": "hq0xnWT79I0B"
      },
      "source": [
        "# Vector store setup\n",
        "\n",
        "ChromaDB"
      ]
    },
    {
      "cell_type": "code",
      "execution_count": 11,
      "metadata": {
        "id": "umIO18tb8tpz"
      },
      "outputs": [],
      "source": [
        "from langchain.vectorstores import FAISS\n",
        "from langchain.embeddings.openai import OpenAIEmbeddings\n",
        "\n",
        "faiss_index = FAISS.from_documents(docs, embeddings)\n"
      ]
    },
    {
      "cell_type": "markdown",
      "metadata": {
        "id": "osmwb3QL9QiX"
      },
      "source": [
        "# Save the db\n",
        "\n",
        "This code saves the FAISS index created in the previous code cell to disk with the name `faiss_index`. The `save_local()` method is called on the `faiss_index` object, which is the FAISS index created earlier. The `save_local()` method is a utility method provided by the FAISS class to save the index to the local file system.\n",
        "\n",
        "After executing this code, a file named \"faiss_index\" should be created in the current working directory. This file contains the serialized version of the FAISS index, which can be loaded back into memory later using the `FAISS.load_local()` method."
      ]
    },
    {
      "cell_type": "code",
      "execution_count": 13,
      "metadata": {
        "id": "M3AVw_PWCEg-"
      },
      "outputs": [],
      "source": [
        "faiss_index.save_local(\"faiss_index-dsm5-tr\")"
      ]
    },
    {
      "cell_type": "markdown",
      "metadata": {
        "id": "W5sRA2Fe9Tky"
      },
      "source": [
        "# Test the vector store\n",
        "\n",
        "This code performs a similarity search using the FAISS index created earlier and the query string *\"Is a prototyping more than enough for software?\"*.\n",
        "\n",
        "The `similarity_search()` method is called on the faiss_index object with two arguments: the query string and `k=5`, which specifies that the top 5 most similar documents should be returned. The result of the similarity search is stored in the `query_result` variable.\n",
        "\n",
        "The code then iterates over the chunks in the `query_result` list and prints the metadata and page content of each `chunk`. Specifically, it prints the page number and source of the document, along with its page content."
      ]
    },
    {
      "cell_type": "code",
      "execution_count": 21,
      "metadata": {
        "id": "lV2Pmvrt_FTO"
      },
      "outputs": [
        {
          "name": "stdout",
          "output_type": "stream",
          "text": [
            "979 pdf/DSM5TR.pdf : Personality Disorders\n",
            "This chapter\n",
            " begins with a general definition of personality disorder that applies to each of\n",
            "the 10 specific personality disorders. A \n",
            "personality disorder\n",
            " is an enduring pattern of inner\n",
            "experience and behavior that deviates markedly from the norms and expectations of the\n",
            "individual’s culture, is pervasive and inflexible, has an onset in adolescence or early adulthood,\n",
            "is stable over time, and leads to distress or impairment.\n",
            "With any ongoing review process, especially one of this complexity, different viewpoints\n",
            "emerge, and an effort was made to accommodate them. Thus, personality disorders are included\n",
            "in both Sections II and III. The material in Section II represents an update of text associated with\n",
            "the same criteria found in DSM-5 (which were carried over from DSM-IV-TR), whereas Section\n",
            "III includes the proposed model for personality disorder diagnosis and conceptualization\n",
            "979 pdf/DSM5TR.pdf : developed by the DSM-5 Personality and Personality Disorders Work Group. As this field\n",
            "evolves, it is hoped that both versions will serve clinical practice and research initiatives,\n",
            "respectively.\n",
            "The following personality disorders are included in this chapter.\n",
            "Paranoid personality disorder\n",
            " is a pattern of distrust and suspiciousness such that others’ motives are interpreted as\n",
            "malevolent.\n",
            "Schizoid personality disorder\n",
            " is a pattern of detachment from social relationships and a restricted range of emotional\n",
            "expression.\n",
            "Schizotypal personality disorder\n",
            " is a pattern of acute discomfort in close relationships, cognitive or perceptual distortions,\n",
            "and eccentricities of behavior.\n",
            "Antisocial personality disorder\n",
            " is a pattern of disregard for, and violation of, the rights of others, criminality, impulsivity,\n",
            "and a failure to learn from experience.\n",
            "Borderline personality disorder\n",
            " is a pattern of instability in interpersonal relationships, self-image, and affects, and\n",
            "marked impulsivity.\n",
            "1156 pdf/DSM5TR.pdf : (Criterion A), the level of personality functioning can also be specified.\n",
            "Personality Disorder—Trait Specified\n",
            "Proposed Diagnostic Criteria\n",
            "A\n",
            ". \n",
            "Moderate or greater impairment in personality functioning, manifested by\n",
            "difficulties in two or more of the following four areas:\n",
            "1\n",
            ". \n",
            "Identity\n",
            "2\n",
            ". \n",
            "Self-direction\n",
            "3\n",
            ". \n",
            "Empathy\n",
            "4\n",
            ". \n",
            "Intimacy\n",
            "B\n",
            ". \n",
            "One or more pathological personality trait domains OR specific trait facets within\n",
            "domains, considering ALL of the following domains:\n",
            "1\n",
            ". \n",
            "Negative Affectivity\n",
            " (vs. Emotional Stability): Frequent and intense\n",
            "experiences of high levels of a wide range of negative emotions (e.g., anxiety,\n",
            "depression, guilt/shame, worry, anger), and their behavioral (e.g., self-harm)\n",
            "and interpersonal (e.g., dependency) manifestations.\n",
            "2\n",
            ". \n",
            "Detachment\n",
            " (vs. Extraversion): Avoidance of socioemotional experience,\n",
            "including both withdrawal from interpersonal interactions, ranging from\n",
            "casual, daily interactions to friendships to intimate relationships, as well as\n",
            "982 pdf/DSM5TR.pdf : be complicated by the fact that the characteristics that define a personality disorder may not be\n",
            "considered problematic by the individual (i.e., the traits are often ego-syntonic). To help\n",
            "overcome this difficulty, supplementary information from other informants may be helpful.\n",
            "Development and Course\n",
            "The features of a personality disorder usually become recognizable during adolescence or early\n",
            "adult life. By definition, a personality disorder is an enduring pattern of thinking, feeling, and\n",
            "behaving that is relatively stable over time. Some types of personality disorder (notably,\n",
            "antisocial and borderline personality disorders) tend to become less evident or to remit with age,\n",
            "whereas this appears to be less true for some other types (e.g., obsessive-compulsive and\n",
            "schizotypal personality disorders).\n",
            "Personality disorder categories may be applied with children or adolescents in those\n",
            "relatively unusual instances in which the individual’s particular maladaptive personality traits\n",
            "980 pdf/DSM5TR.pdf : 734\n",
            "the general criteria for a personality disorder, and traits of several different personality disorders are present, but the criteria\n",
            "for any specific personality disorder are not met; or 2) the individual’s personality pattern meets the general criteria for a\n",
            "personality disorder, but the individual is considered to have a personality disorder that is not included in the DSM-5\n",
            "classification (e.g., passive-aggressive personality disorder). \n",
            "Unspecified personality disorder\n",
            " is for presentations in which\n",
            "symptoms characteristic of a personality disorder are present but there is insufficient information to make a more specific\n",
            "diagnosis.\n",
            "The personality disorders are grouped into three clusters based on descriptive similarities.\n",
            "Cluster A includes paranoid, schizoid, and schizotypal personality disorders. Individuals with\n",
            "these disorders often appear odd or eccentric. Cluster B includes antisocial, borderline, histrionic,\n"
          ]
        }
      ],
      "source": [
        "query_result = faiss_index.similarity_search(\"What is a personality disorder?\", k=5)\n",
        "\n",
        "for chunk in query_result:\n",
        "    print(str(chunk.metadata[\"page\"]) + \" \" + chunk.metadata[\"source\"] + \" :\", chunk.page_content[:])"
      ]
    },
    {
      "cell_type": "markdown",
      "metadata": {
        "id": "ncBRUXkX8xrH"
      },
      "source": [
        "# Chat memory\n",
        "\n",
        "This code imports the [ConversationBufferWindowMemory](https://python.langchain.com/en/latest/modules/memory/types/buffer_window.html) class from the `langchain.memory` module and creates an instance of it called `memory`. This class represents a memory buffer that stores conversations in a windowed fashion, meaning that the buffer only retains a certain number of recent conversations.\n",
        "\n",
        "The constructor of the `ConversationBufferWindowMemory` class takes two arguments: `memory_key` and `return_messages`. The `memory_key` parameter specifies a unique identifier for the memory buffer, and the `return_messages` parameter indicates whether or not to return the stored messages along with their metadata when accessing the memory buffer.\n",
        "\n",
        "In this code, the `memory_key` is set to \"chat_history\", which is being used to store the chat conversations. The return_messages parameter is set to `True`, which indicates that the stored messages will be returned along with their metadata when accessing the memory buffer."
      ]
    },
    {
      "cell_type": "code",
      "execution_count": 30,
      "metadata": {
        "id": "hWbEn5NlBWK7"
      },
      "outputs": [],
      "source": [
        "from langchain.memory import ConversationBufferWindowMemory\n",
        "\n",
        "memory = ConversationBufferWindowMemory(memory_key=\"chat_history\", return_messages=False)"
      ]
    },
    {
      "cell_type": "markdown",
      "metadata": {
        "id": "NrkpI1EY8t02"
      },
      "source": [
        "# Chain setup\n",
        "\n",
        "This code imports several classes and functions from various modules in the langchain package and creates an instance of the [ConversationalRetrievalChain](https://python.langchain.com/en/latest/modules/chains/index_examples/chat_vector_db.html?highlight=ConversationalRetrievalChain) class called `qa`.\n",
        "\n",
        "The `ConversationalRetrievalChain` class is a high-level class that provides an interface for building a conversational agent that can perform retrieval-based question answering. In this code, the `qa` instance is initialized using the `from_llm()` method, which initializes the agent using an LLM model, a retriever and the memory buffer.\n",
        "\n",
        "### LLM\n",
        "The `OpenAI` class from the `langchain.llms` module represents an instance of the OpenAI language model. In this code, an instance of the OpenAI class is created of the model \"[gpt-3.5-turbo](https://platform.openai.com/docs/models)\".\n",
        "\n",
        "### Vector Store\n",
        "The `faiss_index.as_retriever()` method returns a retriever instance that wraps the FAISS index created earlier. This retriever is used to retrieve candidate answers to questions asked of the conversational agent.\n",
        "\n",
        "### Chat History Memory\n",
        "The `memory` variable is a memory buffer that was created earlier using the `ConversationBufferWindowMemory` class. This memory buffer is used to store and retrieve past conversations for use in future interactions.\n",
        "\n",
        "The `verbose=True` parameter indicates that verbose output should be produced when running the conversational agent."
      ]
    },
    {
      "cell_type": "code",
      "execution_count": null,
      "metadata": {
        "id": "--P_eVczGm1X"
      },
      "outputs": [],
      "source": [
        "from langchain.chains import ConversationalRetrievalChain, LLMChain\n",
        "from langchain.chat_models import ChatOpenAI\n",
        "from langchain.llms import OpenAI\n",
        "from langchain.chains.question_answering import load_qa_chain\n",
        "from langchain.chains import RetrievalQA, RetrievalQAWithSourcesChain\n",
        "\n",
        "qa = ConversationalRetrievalChain.from_llm(\n",
        "    OpenAI(model_name=\"gpt-3.5-turbo\", temperature=0.7, max_tokens=2000),\n",
        "    faiss_index.as_retriever(k=5),\n",
        "    memory=memory, verbose=False)\n"
      ]
    },
    {
      "cell_type": "markdown",
      "metadata": {
        "id": "ZykRyF1TWqsc"
      },
      "source": [
        "# Ask away\n",
        "\n",
        "This code snippet involves a conversational agent that performs question-answering tasks. The user inputs a question, which is passed to the agent as a dictionary with a \"question\" key.\n",
        "\n",
        "The agent then creates an embedding of the question to query the FAISS index and retrieve relevant text chunks based on an internal ranking criterion.\n",
        "\n",
        "Next, the agent makes two calls to the LLM model (\"gpt-3.5-turbo\").\n",
        "\n",
        "- The first call uses the retrieved text chunks, chat history, and the current user question to prompt the LLM to come up with a 'better' question for the entire context.\n",
        "- The second call uses the enhanced question to retrieve the actual answer to the original user question.\n",
        "\n",
        "The resulting answer is stored in the 'chat_result variable', which contains metadata and content related to the answer. The actual answer can be accessed using the \"answer\" key of the 'chat_result' dictionary."
      ]
    },
    {
      "cell_type": "code",
      "execution_count": 58,
      "metadata": {
        "id": "Qb5zcHgA6qDY"
      },
      "outputs": [
        {
          "data": {
            "text/plain": [
              "{'question': 'How is this entitlement observable?',\n",
              " 'chat_history': [HumanMessage(content='Is this a common personality disorder?', additional_kwargs={}, example=False),\n",
              "  AIMessage(content='Based on the given information, the estimated prevalence of narcissistic personality disorder ranges from 0.0% to 6.2%, with a median prevalence of 1.6%.', additional_kwargs={}, example=False),\n",
              "  HumanMessage(content=\"That's huge!\", additional_kwargs={}, example=False),\n",
              "  AIMessage(content='The estimated prevalence of narcissistic personality disorder is 1.6%.', additional_kwargs={}, example=False),\n",
              "  HumanMessage(content='What are the gradations?', additional_kwargs={}, example=False),\n",
              "  AIMessage(content='The different levels or degrees of narcissistic personality disorder are not specified in the given context.', additional_kwargs={}, example=False),\n",
              "  HumanMessage(content='When does treats become a disorder in this context??', additional_kwargs={}, example=False),\n",
              "  AIMessage(content='Traits become a disorder in this context when they are pervasive, persistent, and unlikely to be limited to a particular developmental stage or attributable to another mental disorder. Additionally, for a personality disorder to be diagnosed in an individual younger than 18 years, the features must have been present for at least 1 year.', additional_kwargs={}, example=False),\n",
              "  HumanMessage(content='Can they love?', additional_kwargs={}, example=False),\n",
              "  AIMessage(content='Yes, individuals with narcissistic personality disorder have the capacity to experience love. However, their ability to love may be hindered by their self-preoccupation, entitlement, and lack of empathy for others. They may struggle with forming and maintaining healthy relationships due to their need for admiration and disregard for the feelings of others.', additional_kwargs={}, example=False)],\n",
              " 'answer': 'The entitlement of individuals with narcissistic personality disorder can be observed in their preoccupation with fantasies of unlimited success, power, brilliance, beauty, or ideal love, as well as their belief that they are special or unique and expect others to recognize them as such. They may also attribute \"unique,\" \"perfect,\" or \"gifted\" qualities to those with high status and feel that they should only associate with such people. Additionally, they may feel entitled to admiration and privilege, and when this recognition is not forthcoming, they can be surprised or devastated.'}"
            ]
          },
          "execution_count": 58,
          "metadata": {},
          "output_type": "execute_result"
        }
      ],
      "source": [
        "query = \"How is this entitlement observable?\"\n",
        "#query = \"Wie is Marcus Quintillianus?\"\n",
        "\n",
        "chat_result = qa({\"question\": query})\n",
        "chat_result"
      ]
    },
    {
      "cell_type": "code",
      "execution_count": null,
      "metadata": {},
      "outputs": [],
      "source": []
    }
  ],
  "metadata": {
    "colab": {
      "private_outputs": true,
      "provenance": []
    },
    "gpuClass": "standard",
    "kernelspec": {
      "display_name": "Python 3",
      "name": "python3"
    },
    "language_info": {
      "codemirror_mode": {
        "name": "ipython",
        "version": 3
      },
      "file_extension": ".py",
      "mimetype": "text/x-python",
      "name": "python",
      "nbconvert_exporter": "python",
      "pygments_lexer": "ipython3",
      "version": "3.10.8"
    }
  },
  "nbformat": 4,
  "nbformat_minor": 0
}
